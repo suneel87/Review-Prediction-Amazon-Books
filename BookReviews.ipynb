{
  "nbformat": 4,
  "nbformat_minor": 0,
  "metadata": {
    "colab": {
      "name": "BookReviews.ipynb",
      "provenance": [],
      "collapsed_sections": []
    },
    "kernelspec": {
      "name": "python3",
      "display_name": "Python 3"
    }
  },
  "cells": [
    {
      "cell_type": "markdown",
      "metadata": {
        "id": "slsFrhjwmllk"
      },
      "source": [
        "# Natural Language Processing\n"
      ]
    },
    {
      "cell_type": "markdown",
      "metadata": {
        "id": "9h8yKoYgmzb4"
      },
      "source": [
        "## Importing the libraries"
      ]
    },
    {
      "cell_type": "code",
      "metadata": {
        "id": "wEv4q3ZKmb38"
      },
      "source": [
        "import numpy as np\n",
        "import pandas as pd\n",
        "import seaborn as sn"
      ],
      "execution_count": 1,
      "outputs": []
    },
    {
      "cell_type": "markdown",
      "metadata": {
        "id": "29w8z4iYnko9"
      },
      "source": [
        "##Importing the dataset"
      ]
    },
    {
      "cell_type": "code",
      "metadata": {
        "id": "LrWhytgenoRv"
      },
      "source": [
        "review_df= pd.DataFrame(pd.read_json(\"book_reviews_4.json\",lines=True))"
      ],
      "execution_count": 2,
      "outputs": []
    },
    {
      "cell_type": "markdown",
      "metadata": {
        "id": "XLqxi73j_5pd"
      },
      "source": [
        "##Preprocessing text"
      ]
    },
    {
      "cell_type": "code",
      "metadata": {
        "id": "jeXP9RMyB1ET",
        "outputId": "8877e279-1425-4889-c4a0-ff02797739d2",
        "colab": {
          "base_uri": "https://localhost:8080/",
          "height": 194
        }
      },
      "source": [
        "review_df = review_df.loc[:,['reviewText','overall']]\n",
        "review_df.head()"
      ],
      "execution_count": 3,
      "outputs": [
        {
          "output_type": "execute_result",
          "data": {
            "text/html": [
              "<div>\n",
              "<style scoped>\n",
              "    .dataframe tbody tr th:only-of-type {\n",
              "        vertical-align: middle;\n",
              "    }\n",
              "\n",
              "    .dataframe tbody tr th {\n",
              "        vertical-align: top;\n",
              "    }\n",
              "\n",
              "    .dataframe thead th {\n",
              "        text-align: right;\n",
              "    }\n",
              "</style>\n",
              "<table border=\"1\" class=\"dataframe\">\n",
              "  <thead>\n",
              "    <tr style=\"text-align: right;\">\n",
              "      <th></th>\n",
              "      <th>reviewText</th>\n",
              "      <th>overall</th>\n",
              "    </tr>\n",
              "  </thead>\n",
              "  <tbody>\n",
              "    <tr>\n",
              "      <th>0</th>\n",
              "      <td>Spiritually and mentally inspiring! A book tha...</td>\n",
              "      <td>5</td>\n",
              "    </tr>\n",
              "    <tr>\n",
              "      <th>1</th>\n",
              "      <td>This is one my must have books. It is a master...</td>\n",
              "      <td>5</td>\n",
              "    </tr>\n",
              "    <tr>\n",
              "      <th>2</th>\n",
              "      <td>This book provides a reflection that you can a...</td>\n",
              "      <td>5</td>\n",
              "    </tr>\n",
              "    <tr>\n",
              "      <th>3</th>\n",
              "      <td>I first read THE PROPHET in college back in th...</td>\n",
              "      <td>5</td>\n",
              "    </tr>\n",
              "    <tr>\n",
              "      <th>4</th>\n",
              "      <td>A timeless classic.  It is a very demanding an...</td>\n",
              "      <td>5</td>\n",
              "    </tr>\n",
              "  </tbody>\n",
              "</table>\n",
              "</div>"
            ],
            "text/plain": [
              "                                          reviewText  overall\n",
              "0  Spiritually and mentally inspiring! A book tha...        5\n",
              "1  This is one my must have books. It is a master...        5\n",
              "2  This book provides a reflection that you can a...        5\n",
              "3  I first read THE PROPHET in college back in th...        5\n",
              "4  A timeless classic.  It is a very demanding an...        5"
            ]
          },
          "metadata": {
            "tags": []
          },
          "execution_count": 3
        }
      ]
    },
    {
      "cell_type": "code",
      "metadata": {
        "id": "DQjGJQteB3pf",
        "outputId": "8404526f-dd55-4138-dd6e-12ab3d2aa1bf",
        "colab": {
          "base_uri": "https://localhost:8080/"
        }
      },
      "source": [
        "review_df['overall'].value_counts()"
      ],
      "execution_count": 4,
      "outputs": [
        {
          "output_type": "execute_result",
          "data": {
            "text/plain": [
              "5    2999\n",
              "4    1038\n",
              "3     484\n",
              "2     299\n",
              "1     185\n",
              "Name: overall, dtype: int64"
            ]
          },
          "metadata": {
            "tags": []
          },
          "execution_count": 4
        }
      ]
    },
    {
      "cell_type": "code",
      "metadata": {
        "id": "Z5vZ6gYDB7yl",
        "outputId": "d9a37784-d64d-4ea9-f5d1-051be45368bd",
        "colab": {
          "base_uri": "https://localhost:8080/"
        }
      },
      "source": [
        "review_df.isnull().sum()"
      ],
      "execution_count": 5,
      "outputs": [
        {
          "output_type": "execute_result",
          "data": {
            "text/plain": [
              "reviewText    0\n",
              "overall       0\n",
              "dtype: int64"
            ]
          },
          "metadata": {
            "tags": []
          },
          "execution_count": 5
        }
      ]
    },
    {
      "cell_type": "code",
      "metadata": {
        "id": "1x4iNnqCLw-e",
        "outputId": "12c64312-bbfe-4422-b25e-876f71beabd8",
        "colab": {
          "base_uri": "https://localhost:8080/"
        }
      },
      "source": [
        "!pip install git+https://github.com/laxmimerit/preprocess_kgptalkie.git"
      ],
      "execution_count": null,
      "outputs": [
        {
          "output_type": "stream",
          "text": [
            "Collecting git+https://github.com/laxmimerit/preprocess_kgptalkie.git\n",
            "  Cloning https://github.com/laxmimerit/preprocess_kgptalkie.git to /tmp/pip-req-build-ukny8th6\n",
            "  Running command git clone -q https://github.com/laxmimerit/preprocess_kgptalkie.git /tmp/pip-req-build-ukny8th6\n",
            "Requirement already satisfied (use --upgrade to upgrade): preprocess-kgptalkie==0.1.0 from git+https://github.com/laxmimerit/preprocess_kgptalkie.git in /usr/local/lib/python3.6/dist-packages\n",
            "Building wheels for collected packages: preprocess-kgptalkie\n",
            "  Building wheel for preprocess-kgptalkie (setup.py) ... \u001b[?25l\u001b[?25hdone\n",
            "  Created wheel for preprocess-kgptalkie: filename=preprocess_kgptalkie-0.1.0-cp36-none-any.whl size=11716 sha256=2a55dab1e719de0d9faa41488a7782e164855e6070e210403ccddffac1a0cfa2\n",
            "  Stored in directory: /tmp/pip-ephem-wheel-cache-yh1spr0m/wheels/a8/18/22/90afa4bd43247fb9a75b710a4a3fcd94966c022ce9e3c7d0a6\n",
            "Successfully built preprocess-kgptalkie\n"
          ],
          "name": "stdout"
        }
      ]
    },
    {
      "cell_type": "code",
      "metadata": {
        "id": "zHpAQUF8MdCW"
      },
      "source": [
        "import preprocess_kgptalkie as ps\n",
        "import re"
      ],
      "execution_count": null,
      "outputs": []
    },
    {
      "cell_type": "code",
      "metadata": {
        "id": "DEPshiurMlH-"
      },
      "source": [
        "def get_clean(x):\n",
        "    x = str(x).lower().replace('\\\\', '').replace('_', ' ')\n",
        "    x = ps.cont_exp(x)\n",
        "    x = ps.remove_urls(x)\n",
        "    x = ps.remove_accented_chars(x)\n",
        "    x = ps.remove_special_chars(x)\n",
        "    x = re.sub(\"(.)\\\\1{2,}\", \"\\\\1\", x)\n",
        "    return x"
      ],
      "execution_count": null,
      "outputs": []
    },
    {
      "cell_type": "code",
      "metadata": {
        "id": "FqUy2dKqM1vP",
        "outputId": "0ee47601-6242-45b8-ce20-2f4241b956ee",
        "colab": {
          "base_uri": "https://localhost:8080/",
          "height": 194
        }
      },
      "source": [
        "review_df['reviewText'] = review_df['reviewText'].apply(lambda x: get_clean(x))\n",
        "review_df.head()"
      ],
      "execution_count": null,
      "outputs": [
        {
          "output_type": "execute_result",
          "data": {
            "text/html": [
              "<div>\n",
              "<style scoped>\n",
              "    .dataframe tbody tr th:only-of-type {\n",
              "        vertical-align: middle;\n",
              "    }\n",
              "\n",
              "    .dataframe tbody tr th {\n",
              "        vertical-align: top;\n",
              "    }\n",
              "\n",
              "    .dataframe thead th {\n",
              "        text-align: right;\n",
              "    }\n",
              "</style>\n",
              "<table border=\"1\" class=\"dataframe\">\n",
              "  <thead>\n",
              "    <tr style=\"text-align: right;\">\n",
              "      <th></th>\n",
              "      <th>reviewText</th>\n",
              "      <th>overall</th>\n",
              "    </tr>\n",
              "  </thead>\n",
              "  <tbody>\n",
              "    <tr>\n",
              "      <th>0</th>\n",
              "      <td>spirityoually and mentally inspiring a book th...</td>\n",
              "      <td>5</td>\n",
              "    </tr>\n",
              "    <tr>\n",
              "      <th>1</th>\n",
              "      <td>this is one my myoust have books it is a maste...</td>\n",
              "      <td>5</td>\n",
              "    </tr>\n",
              "    <tr>\n",
              "      <th>2</th>\n",
              "      <td>this book provides a reflection that yoyou can...</td>\n",
              "      <td>5</td>\n",
              "    </tr>\n",
              "    <tr>\n",
              "      <th>3</th>\n",
              "      <td>i first read the prophet in collexamplee back ...</td>\n",
              "      <td>5</td>\n",
              "    </tr>\n",
              "    <tr>\n",
              "      <th>4</th>\n",
              "      <td>a timeless classi see it is a very demanding a...</td>\n",
              "      <td>5</td>\n",
              "    </tr>\n",
              "  </tbody>\n",
              "</table>\n",
              "</div>"
            ],
            "text/plain": [
              "                                          reviewText  overall\n",
              "0  spirityoually and mentally inspiring a book th...        5\n",
              "1  this is one my myoust have books it is a maste...        5\n",
              "2  this book provides a reflection that yoyou can...        5\n",
              "3  i first read the prophet in collexamplee back ...        5\n",
              "4  a timeless classi see it is a very demanding a...        5"
            ]
          },
          "metadata": {
            "tags": []
          },
          "execution_count": 148
        }
      ]
    },
    {
      "cell_type": "markdown",
      "metadata": {
        "id": "2N_o8Rb_NT_2"
      },
      "source": [
        "#TFDIF"
      ]
    },
    {
      "cell_type": "code",
      "metadata": {
        "id": "7wLUc6pONYtt"
      },
      "source": [
        "from sklearn.feature_extraction.text import TfidfVectorizer\n",
        "from sklearn.model_selection import train_test_split\n",
        "from sklearn.svm import SVC\n",
        "from sklearn.metrics import classification_report"
      ],
      "execution_count": null,
      "outputs": []
    },
    {
      "cell_type": "code",
      "metadata": {
        "id": "3VSUOI3hN1Dh"
      },
      "source": [
        "tfidf = TfidfVectorizer(max_features=5000, ngram_range=(1,10),analyzer='char')"
      ],
      "execution_count": null,
      "outputs": []
    },
    {
      "cell_type": "code",
      "metadata": {
        "id": "9fhTRC8AOGIu"
      },
      "source": [
        "X = tfidf.fit_transform(review_df['reviewText'])\n",
        "y = review_df['overall']"
      ],
      "execution_count": null,
      "outputs": []
    },
    {
      "cell_type": "code",
      "metadata": {
        "id": "O79T8rcqOalZ",
        "outputId": "f288c2b5-e8eb-4cee-ba00-b95cf97e3aa3",
        "colab": {
          "base_uri": "https://localhost:8080/"
        }
      },
      "source": [
        "X_train, X_test, y_train, y_test = train_test_split(X, y, test_size = 0.2, random_state = 0)\n",
        "X_train.shape\n"
      ],
      "execution_count": null,
      "outputs": [
        {
          "output_type": "execute_result",
          "data": {
            "text/plain": [
              "(4004, 5000)"
            ]
          },
          "metadata": {
            "tags": []
          },
          "execution_count": 152
        }
      ]
    },
    {
      "cell_type": "markdown",
      "metadata": {
        "id": "xlID1xewHuZk"
      },
      "source": [
        "#Linear SVM"
      ]
    },
    {
      "cell_type": "markdown",
      "metadata": {
        "id": "uYEPEo3rOgee"
      },
      "source": [
        "##Training the model"
      ]
    },
    {
      "cell_type": "code",
      "metadata": {
        "id": "CDjyFIjKOmV1",
        "outputId": "0fd2a80b-beb3-46ea-a5b5-95f4a127e3cf",
        "colab": {
          "base_uri": "https://localhost:8080/"
        }
      },
      "source": [
        "# clf = LinearSVC(C = 20, class_weight='balanced')\n",
        "svc_classifier = SVC(C = 20, kernel='rbf', class_weight='balanced')\n",
        "svc_classifier.fit(X_train,y_train)"
      ],
      "execution_count": null,
      "outputs": [
        {
          "output_type": "execute_result",
          "data": {
            "text/plain": [
              "SVC(C=20, break_ties=False, cache_size=200, class_weight='balanced', coef0=0.0,\n",
              "    decision_function_shape='ovr', degree=3, gamma='scale', kernel='rbf',\n",
              "    max_iter=-1, probability=False, random_state=None, shrinking=True,\n",
              "    tol=0.001, verbose=False)"
            ]
          },
          "metadata": {
            "tags": []
          },
          "execution_count": 153
        }
      ]
    },
    {
      "cell_type": "markdown",
      "metadata": {
        "id": "ZtFjbM-fOjRf"
      },
      "source": [
        "##Predicting the results"
      ]
    },
    {
      "cell_type": "code",
      "metadata": {
        "id": "VtJPF9LgPADO"
      },
      "source": [
        "y_pred = svc_classifier.predict(X_test)"
      ],
      "execution_count": null,
      "outputs": []
    },
    {
      "cell_type": "code",
      "metadata": {
        "id": "1LuSZhk3PFuM",
        "outputId": "a88d0bd5-5853-438a-e0da-b3e28c4a8b44",
        "colab": {
          "base_uri": "https://localhost:8080/"
        }
      },
      "source": [
        "print(classification_report(y_test,y_pred))"
      ],
      "execution_count": null,
      "outputs": [
        {
          "output_type": "stream",
          "text": [
            "              precision    recall  f1-score   support\n",
            "\n",
            "           1       0.29      0.34      0.32        29\n",
            "           2       0.30      0.27      0.29        55\n",
            "           3       0.31      0.24      0.27       108\n",
            "           4       0.35      0.42      0.38       205\n",
            "           5       0.77      0.75      0.76       604\n",
            "\n",
            "    accuracy                           0.59      1001\n",
            "   macro avg       0.41      0.41      0.40      1001\n",
            "weighted avg       0.60      0.59      0.59      1001\n",
            "\n"
          ],
          "name": "stdout"
        }
      ]
    },
    {
      "cell_type": "markdown",
      "metadata": {
        "id": "2ykscusROlR5"
      },
      "source": [
        "##Visualising accuracy"
      ]
    },
    {
      "cell_type": "code",
      "metadata": {
        "id": "1AD3PDIKKvm8",
        "outputId": "1792e87c-5b41-42d3-817d-7d89b95808b3",
        "colab": {
          "base_uri": "https://localhost:8080/",
          "height": 282
        }
      },
      "source": [
        "from sklearn.metrics import confusion_matrix, accuracy_score\n",
        "cm = confusion_matrix(y_test, y_pred)\n",
        "sn.heatmap(cm, annot=True)"
      ],
      "execution_count": null,
      "outputs": [
        {
          "output_type": "execute_result",
          "data": {
            "text/plain": [
              "<matplotlib.axes._subplots.AxesSubplot at 0x7efd4f1f8a90>"
            ]
          },
          "metadata": {
            "tags": []
          },
          "execution_count": 156
        },
        {
          "output_type": "display_data",
          "data": {
            "image/png": "[encoded data removed]",
            "text/plain": [
              "<Figure size 432x288 with 2 Axes>"
            ]
          },
          "metadata": {
            "tags": [],
            "needs_background": "light"
          }
        }
      ]
    },
    {
      "cell_type": "markdown",
      "metadata": {
        "id": "efVweREmOpHH"
      },
      "source": [
        "##Test cases"
      ]
    },
    {
      "cell_type": "code",
      "metadata": {
        "id": "PgjoFp6xQVla",
        "outputId": "ee35f07c-d405-4d34-ac89-aea96ff1a03f",
        "colab": {
          "base_uri": "https://localhost:8080/"
        }
      },
      "source": [
        "x = 'Good product'\n",
        "x = get_clean(x)\n",
        "vec = tfidf.transform([x])\n",
        "svc_classifier.predict(vec)"
      ],
      "execution_count": null,
      "outputs": [
        {
          "output_type": "execute_result",
          "data": {
            "text/plain": [
              "array([4])"
            ]
          },
          "metadata": {
            "tags": []
          },
          "execution_count": 157
        }
      ]
    },
    {
      "cell_type": "code",
      "metadata": {
        "id": "-Pdyult1C1a4",
        "outputId": "04cbf142-ad72-4bb3-9795-3f16df929ccb",
        "colab": {
          "base_uri": "https://localhost:8080/"
        }
      },
      "source": [
        "x = 'not bad'\n",
        "x = get_clean(x)\n",
        "vec = tfidf.transform([x])\n",
        "svc_classifier.predict(vec)"
      ],
      "execution_count": null,
      "outputs": [
        {
          "output_type": "execute_result",
          "data": {
            "text/plain": [
              "array([2])"
            ]
          },
          "metadata": {
            "tags": []
          },
          "execution_count": 158
        }
      ]
    },
    {
      "cell_type": "code",
      "metadata": {
        "id": "5RlIxUvxHhoz",
        "outputId": "7ecd0d44-751a-409b-c630-6898d09bf74e",
        "colab": {
          "base_uri": "https://localhost:8080/"
        }
      },
      "source": [
        "x = 'Amazing functionality'\n",
        "x = get_clean(x)\n",
        "vec = tfidf.transform([x])\n",
        "svc_classifier.predict(vec)"
      ],
      "execution_count": null,
      "outputs": [
        {
          "output_type": "execute_result",
          "data": {
            "text/plain": [
              "array([5])"
            ]
          },
          "metadata": {
            "tags": []
          },
          "execution_count": 159
        }
      ]
    },
    {
      "cell_type": "code",
      "metadata": {
        "id": "KO5PX8FRO27Z",
        "outputId": "6b12d74c-8ffe-485c-ed0b-5df5f9264ab3",
        "colab": {
          "base_uri": "https://localhost:8080/"
        }
      },
      "source": [
        "x = 'Worst rated product ever'\n",
        "x = get_clean(x)\n",
        "vec = tfidf.transform([x])\n",
        "svc_classifier.predict(vec)"
      ],
      "execution_count": null,
      "outputs": [
        {
          "output_type": "execute_result",
          "data": {
            "text/plain": [
              "array([1])"
            ]
          },
          "metadata": {
            "tags": []
          },
          "execution_count": 160
        }
      ]
    },
    {
      "cell_type": "markdown",
      "metadata": {
        "id": "oapJGrDoIFAz"
      },
      "source": [
        "#Naive Bayes"
      ]
    },
    {
      "cell_type": "markdown",
      "metadata": {
        "id": "pQV-Zt1XOFaw"
      },
      "source": [
        "##Training the model"
      ]
    },
    {
      "cell_type": "code",
      "metadata": {
        "id": "CAsiJw4uIG8O",
        "outputId": "37462df7-10e5-4c79-88b4-ef350b87f2aa",
        "colab": {
          "base_uri": "https://localhost:8080/"
        }
      },
      "source": [
        "from sklearn.naive_bayes import GaussianNB\n",
        "nb_classifier = GaussianNB()\n",
        "nb_classifier.fit(X_train.toarray(),y_train)"
      ],
      "execution_count": null,
      "outputs": [
        {
          "output_type": "execute_result",
          "data": {
            "text/plain": [
              "GaussianNB(priors=None, var_smoothing=1e-09)"
            ]
          },
          "metadata": {
            "tags": []
          },
          "execution_count": 161
        }
      ]
    },
    {
      "cell_type": "markdown",
      "metadata": {
        "id": "1uALnWW2OH8n"
      },
      "source": [
        "##Predicting the results"
      ]
    },
    {
      "cell_type": "code",
      "metadata": {
        "id": "LRlLDrVSInIm"
      },
      "source": [
        "y_pred = nb_classifier.predict(X_test.toarray())"
      ],
      "execution_count": null,
      "outputs": []
    },
    {
      "cell_type": "code",
      "metadata": {
        "id": "EnM_2OPiIsNl",
        "outputId": "4791823f-d826-42f6-ff03-d588ee71d891",
        "colab": {
          "base_uri": "https://localhost:8080/"
        }
      },
      "source": [
        "print(classification_report(y_test,y_pred))"
      ],
      "execution_count": null,
      "outputs": [
        {
          "output_type": "stream",
          "text": [
            "              precision    recall  f1-score   support\n",
            "\n",
            "           1       0.11      0.31      0.16        29\n",
            "           2       0.11      0.31      0.16        55\n",
            "           3       0.19      0.33      0.24       108\n",
            "           4       0.29      0.27      0.28       205\n",
            "           5       0.78      0.50      0.61       604\n",
            "\n",
            "    accuracy                           0.42      1001\n",
            "   macro avg       0.30      0.34      0.29      1001\n",
            "weighted avg       0.56      0.42      0.46      1001\n",
            "\n"
          ],
          "name": "stdout"
        }
      ]
    },
    {
      "cell_type": "markdown",
      "metadata": {
        "id": "MqVYGmLAOMEZ"
      },
      "source": [
        "##Visualising accuracy"
      ]
    },
    {
      "cell_type": "code",
      "metadata": {
        "id": "EiNvliqwKptO",
        "outputId": "deb1c934-431f-4e51-e045-acef3647752b",
        "colab": {
          "base_uri": "https://localhost:8080/",
          "height": 286
        }
      },
      "source": [
        "from sklearn.metrics import confusion_matrix, accuracy_score\n",
        "cm = confusion_matrix(y_test, y_pred)\n",
        "sn.heatmap(cm, annot=True)"
      ],
      "execution_count": null,
      "outputs": [
        {
          "output_type": "execute_result",
          "data": {
            "text/plain": [
              "<matplotlib.axes._subplots.AxesSubplot at 0x7efd540137f0>"
            ]
          },
          "metadata": {
            "tags": []
          },
          "execution_count": 164
        },
        {
          "output_type": "display_data",
          "data": {
            "image/png": "[encoded data removed]",
            "text/plain": [
              "<Figure size 432x288 with 2 Axes>"
            ]
          },
          "metadata": {
            "tags": [],
            "needs_background": "light"
          }
        }
      ]
    },
    {
      "cell_type": "markdown",
      "metadata": {
        "id": "oiqAnM4-Osbx"
      },
      "source": [
        "##Test cases"
      ]
    },
    {
      "cell_type": "code",
      "metadata": {
        "id": "iWidcG3hOtvT",
        "outputId": "8675c168-5a2b-4054-e5c2-7cd91368bf61",
        "colab": {
          "base_uri": "https://localhost:8080/"
        }
      },
      "source": [
        "x = 'Good product'\n",
        "x = get_clean(x)\n",
        "vec = tfidf.transform([x])\n",
        "nb_classifier.predict(vec.toarray())"
      ],
      "execution_count": null,
      "outputs": [
        {
          "output_type": "execute_result",
          "data": {
            "text/plain": [
              "array([4])"
            ]
          },
          "metadata": {
            "tags": []
          },
          "execution_count": 166
        }
      ]
    },
    {
      "cell_type": "code",
      "metadata": {
        "id": "bcklmjAZOtvY",
        "outputId": "2fef30ee-9836-4a71-ffe4-eabd85dfd37e",
        "colab": {
          "base_uri": "https://localhost:8080/"
        }
      },
      "source": [
        "x = 'not bad'\n",
        "x = get_clean(x)\n",
        "vec = tfidf.transform([x])\n",
        "nb_classifier.predict(vec.toarray())"
      ],
      "execution_count": null,
      "outputs": [
        {
          "output_type": "execute_result",
          "data": {
            "text/plain": [
              "array([1])"
            ]
          },
          "metadata": {
            "tags": []
          },
          "execution_count": 167
        }
      ]
    },
    {
      "cell_type": "code",
      "metadata": {
        "id": "umeEShZ9Otvc",
        "outputId": "d9ec41d9-9abb-4ee6-d9c7-03cbc3f208d6",
        "colab": {
          "base_uri": "https://localhost:8080/"
        }
      },
      "source": [
        "x = 'Amazing functionality'\n",
        "x = get_clean(x)\n",
        "vec = tfidf.transform([x])\n",
        "nb_classifier.predict(vec.toarray())"
      ],
      "execution_count": null,
      "outputs": [
        {
          "output_type": "execute_result",
          "data": {
            "text/plain": [
              "array([5])"
            ]
          },
          "metadata": {
            "tags": []
          },
          "execution_count": 168
        }
      ]
    },
    {
      "cell_type": "code",
      "metadata": {
        "id": "-25EJmzAOxKk",
        "outputId": "401a7b76-6274-4ad8-8ba0-10ac361be4f1",
        "colab": {
          "base_uri": "https://localhost:8080/"
        }
      },
      "source": [
        "x = 'Worst rated product ever'\n",
        "x = get_clean(x)\n",
        "vec = tfidf.transform([x])\n",
        "nb_classifier.predict(vec.toarray())"
      ],
      "execution_count": null,
      "outputs": [
        {
          "output_type": "execute_result",
          "data": {
            "text/plain": [
              "array([1])"
            ]
          },
          "metadata": {
            "tags": []
          },
          "execution_count": 178
        }
      ]
    },
    {
      "cell_type": "markdown",
      "metadata": {
        "id": "uw7fTtCgJVi-"
      },
      "source": [
        "#Random Forest Classifier"
      ]
    },
    {
      "cell_type": "markdown",
      "metadata": {
        "id": "YLMepKPGKc7Y"
      },
      "source": [
        "##Training the model"
      ]
    },
    {
      "cell_type": "code",
      "metadata": {
        "id": "SWIN1ONDI2vW",
        "outputId": "e34842b5-ce60-4cd0-a95c-6c139258da6c",
        "colab": {
          "base_uri": "https://localhost:8080/"
        }
      },
      "source": [
        "from sklearn.ensemble import RandomForestClassifier\n",
        "rf_classifier = RandomForestClassifier(criterion=\"entropy\",random_state=0)\n",
        "rf_classifier.fit(X_train,y_train)"
      ],
      "execution_count": null,
      "outputs": [
        {
          "output_type": "execute_result",
          "data": {
            "text/plain": [
              "RandomForestClassifier(bootstrap=True, ccp_alpha=0.0, class_weight=None,\n",
              "                       criterion='entropy', max_depth=None, max_features='auto',\n",
              "                       max_leaf_nodes=None, max_samples=None,\n",
              "                       min_impurity_decrease=0.0, min_impurity_split=None,\n",
              "                       min_samples_leaf=1, min_samples_split=2,\n",
              "                       min_weight_fraction_leaf=0.0, n_estimators=100,\n",
              "                       n_jobs=None, oob_score=False, random_state=0, verbose=0,\n",
              "                       warm_start=False)"
            ]
          },
          "metadata": {
            "tags": []
          },
          "execution_count": 170
        }
      ]
    },
    {
      "cell_type": "markdown",
      "metadata": {
        "id": "Kf0GGTEoKh_-"
      },
      "source": [
        "##Predicting the results"
      ]
    },
    {
      "cell_type": "code",
      "metadata": {
        "id": "VHE4nb2QJpbU"
      },
      "source": [
        "y_pred = rf_classifier.predict(X_test)"
      ],
      "execution_count": null,
      "outputs": []
    },
    {
      "cell_type": "markdown",
      "metadata": {
        "id": "7Qyn3R5lKl0-"
      },
      "source": [
        "##Visualising accuracy"
      ]
    },
    {
      "cell_type": "code",
      "metadata": {
        "id": "GqrYkl8NJs5r",
        "outputId": "36f95e77-bb78-408c-bf0f-b382ccd6af8f",
        "colab": {
          "base_uri": "https://localhost:8080/"
        }
      },
      "source": [
        "print(classification_report(y_test,y_pred))"
      ],
      "execution_count": null,
      "outputs": [
        {
          "output_type": "stream",
          "text": [
            "              precision    recall  f1-score   support\n",
            "\n",
            "           1       0.00      0.00      0.00        29\n",
            "           2       1.00      0.02      0.04        55\n",
            "           3       0.00      0.00      0.00       108\n",
            "           4       0.33      0.02      0.05       205\n",
            "           5       0.61      1.00      0.76       604\n",
            "\n",
            "    accuracy                           0.61      1001\n",
            "   macro avg       0.39      0.21      0.17      1001\n",
            "weighted avg       0.49      0.61      0.47      1001\n",
            "\n"
          ],
          "name": "stdout"
        }
      ]
    },
    {
      "cell_type": "code",
      "metadata": {
        "id": "bFFx-nIjKCYu",
        "outputId": "1faa892a-d435-4cca-fe8d-615d1ae68f22",
        "colab": {
          "base_uri": "https://localhost:8080/",
          "height": 286
        }
      },
      "source": [
        "from sklearn.metrics import confusion_matrix, accuracy_score\n",
        "cm = confusion_matrix(y_test, y_pred)\n",
        "sn.heatmap(cm, annot=True)"
      ],
      "execution_count": null,
      "outputs": [
        {
          "output_type": "execute_result",
          "data": {
            "text/plain": [
              "<matplotlib.axes._subplots.AxesSubplot at 0x7efd508f4550>"
            ]
          },
          "metadata": {
            "tags": []
          },
          "execution_count": 173
        },
        {
          "output_type": "display_data",
          "data": {
            "image/png": "[encoded data removed]",
            "text/plain": [
              "<Figure size 432x288 with 2 Axes>"
            ]
          },
          "metadata": {
            "tags": [],
            "needs_background": "light"
          }
        }
      ]
    },
    {
      "cell_type": "markdown",
      "metadata": {
        "id": "Mn7cXbbnO5EN"
      },
      "source": [
        "##Test cases"
      ]
    },
    {
      "cell_type": "code",
      "metadata": {
        "id": "YJHejDB0O_M_",
        "outputId": "e842cd68-b8d1-4b92-ba37-94a439e89775",
        "colab": {
          "base_uri": "https://localhost:8080/"
        }
      },
      "source": [
        "x = 'Good product'\n",
        "x = get_clean(x)\n",
        "vec = tfidf.transform([x])\n",
        "rf_classifier.predict(vec)"
      ],
      "execution_count": null,
      "outputs": [
        {
          "output_type": "execute_result",
          "data": {
            "text/plain": [
              "array([5])"
            ]
          },
          "metadata": {
            "tags": []
          },
          "execution_count": 174
        }
      ]
    },
    {
      "cell_type": "code",
      "metadata": {
        "id": "ZJ19Q5v4O_NK",
        "outputId": "877b6f53-2ef2-43d4-a18a-d30c8a54ee7c",
        "colab": {
          "base_uri": "https://localhost:8080/"
        }
      },
      "source": [
        "x = 'not bad'\n",
        "x = get_clean(x)\n",
        "vec = tfidf.transform([x])\n",
        "rf_classifier.predict(vec)"
      ],
      "execution_count": null,
      "outputs": [
        {
          "output_type": "execute_result",
          "data": {
            "text/plain": [
              "array([5])"
            ]
          },
          "metadata": {
            "tags": []
          },
          "execution_count": 175
        }
      ]
    },
    {
      "cell_type": "code",
      "metadata": {
        "id": "XxZiglLiO_NN",
        "outputId": "32b2c056-3a6e-4553-e83a-962beef1f07b",
        "colab": {
          "base_uri": "https://localhost:8080/"
        }
      },
      "source": [
        "x = 'Amazing functionality'\n",
        "x = get_clean(x)\n",
        "vec = tfidf.transform([x])\n",
        "rf_classifier.predict(vec)"
      ],
      "execution_count": null,
      "outputs": [
        {
          "output_type": "execute_result",
          "data": {
            "text/plain": [
              "array([5])"
            ]
          },
          "metadata": {
            "tags": []
          },
          "execution_count": 176
        }
      ]
    },
    {
      "cell_type": "code",
      "metadata": {
        "id": "C448E8bDO_NR",
        "outputId": "27e69fa4-0d9b-4d15-827d-3682de6f05ab",
        "colab": {
          "base_uri": "https://localhost:8080/"
        }
      },
      "source": [
        "x = 'Worst rated product ever'\n",
        "x = get_clean(x)\n",
        "vec = tfidf.transform([x])\n",
        "rf_classifier.predict(vec)"
      ],
      "execution_count": null,
      "outputs": [
        {
          "output_type": "execute_result",
          "data": {
            "text/plain": [
              "array([5])"
            ]
          },
          "metadata": {
            "tags": []
          },
          "execution_count": 177
        }
      ]
    }
  ]
}